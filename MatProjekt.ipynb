{
 "cells": [
  {
   "cell_type": "code",
   "execution_count": 1,
   "metadata": {},
   "outputs": [],
   "source": [
    "from dtumathtools import *\n",
    "from sympy import *\n",
    "init_printing()"
   ]
  },
  {
   "cell_type": "markdown",
   "metadata": {},
   "source": [
    "### Egenværdier og egenvektorer"
   ]
  },
  {
   "cell_type": "code",
   "execution_count": 2,
   "metadata": {},
   "outputs": [
    {
     "data": {
      "text/latex": [
       "$\\displaystyle \\left[\\begin{matrix}- a_{1} - a_{2} & a_{2}\\\\a_{2} w & - a_{2} w\\end{matrix}\\right]$"
      ],
      "text/plain": [
       "⎡-a₁ - a₂   a₂  ⎤\n",
       "⎢               ⎥\n",
       "⎣  a₂⋅w    -a₂⋅w⎦"
      ]
     },
     "execution_count": 2,
     "metadata": {},
     "output_type": "execute_result"
    }
   ],
   "source": [
    "a_1,a_2,a_3,w,c_b,c_v,F_1,F_2,V_b,V_v,C_1,C_2,t = symbols('a_1,a_2,a_3,w,c_b,c_v,F_1,F_2,V_b,V_v,C_1,C_2,t')\n",
    "A = Matrix([[-(a_1+a_2),a_2],[w*a_2,-w*a_2]])\n",
    "A"
   ]
  },
  {
   "cell_type": "code",
   "execution_count": 3,
   "metadata": {},
   "outputs": [
    {
     "data": {
      "image/png": "[encoded data removed]",
      "text/latex": [
       "$\\displaystyle \\left\\{ - \\frac{a_{1}}{2} - \\frac{a_{2} w}{2} - \\frac{a_{2}}{2} - \\frac{\\sqrt{a_{1}^{2} - 2 a_{1} a_{2} w + 2 a_{1} a_{2} + a_{2}^{2} w^{2} + 2 a_{2}^{2} w + a_{2}^{2}}}{2} : 1, \\  - \\frac{a_{1}}{2} - \\frac{a_{2} w}{2} - \\frac{a_{2}}{2} + \\frac{\\sqrt{a_{1}^{2} - 2 a_{1} a_{2} w + 2 a_{1} a_{2} + a_{2}^{2} w^{2} + 2 a_{2}^{2} w + a_{2}^{2}}}{2} : 1\\right\\}$"
      ],
      "text/plain": [
       "⎧                      ____________________________________________________   \n",
       "⎪                     ╱   2                           2  2       2       2    \n",
       "⎨  a₁   a₂⋅w   a₂   ╲╱  a₁  - 2⋅a₁⋅a₂⋅w + 2⋅a₁⋅a₂ + a₂ ⋅w  + 2⋅a₂ ⋅w + a₂     \n",
       "⎪- ── - ──── - ── - ───────────────────────────────────────────────────────: 1\n",
       "⎩  2     2     2                               2                              \n",
       "\n",
       "                        ____________________________________________________  \n",
       "                       ╱   2                           2  2       2       2   \n",
       "    a₁   a₂⋅w   a₂   ╲╱  a₁  - 2⋅a₁⋅a₂⋅w + 2⋅a₁⋅a₂ + a₂ ⋅w  + 2⋅a₂ ⋅w + a₂    \n",
       ", - ── - ──── - ── + ───────────────────────────────────────────────────────: \n",
       "    2     2     2                               2                             \n",
       "\n",
       " ⎫\n",
       " ⎪\n",
       " ⎬\n",
       "1⎪\n",
       " ⎭"
      ]
     },
     "execution_count": 3,
     "metadata": {},
     "output_type": "execute_result"
    }
   ],
   "source": [
    "A.eigenvals()"
   ]
  },
  {
   "cell_type": "code",
   "execution_count": 4,
   "metadata": {},
   "outputs": [
    {
     "name": "stdout",
     "output_type": "stream",
     "text": [
      "{-a_1/2 - a_2*w/2 - a_2/2 - sqrt(a_1**2 - 2*a_1*a_2*w + 2*a_1*a_2 + a_2**2*w**2 + 2*a_2**2*w + a_2**2)/2: 1, -a_1/2 - a_2*w/2 - a_2/2 + sqrt(a_1**2 - 2*a_1*a_2*w + 2*a_1*a_2 + a_2**2*w**2 + 2*a_2**2*w + a_2**2)/2: 1}\n"
     ]
    }
   ],
   "source": [
    "print(A.eigenvals())"
   ]
  },
  {
   "cell_type": "code",
   "execution_count": 5,
   "metadata": {},
   "outputs": [],
   "source": [
    "Aval1 = -a_1/2 - a_2*w/2 - a_2/2 - sqrt(a_1**2 - 2*a_1*a_2*w + 2*a_1*a_2 + a_2**2*w**2 + 2*a_2**2*w + a_2**2)/2\n",
    "Aval2 = -a_1/2 - a_2*w/2 - a_2/2 + sqrt(a_1**2 - 2*a_1*a_2*w + 2*a_1*a_2 + a_2**2*w**2 + 2*a_2**2*w + a_2**2)/2"
   ]
  },
  {
   "cell_type": "code",
   "execution_count": 6,
   "metadata": {},
   "outputs": [
    {
     "data": {
      "text/latex": [
       "$\\displaystyle \\left[ \\left( - \\frac{a_{1}}{2} - \\frac{a_{2} w}{2} - \\frac{a_{2}}{2} - \\frac{\\sqrt{a_{1}^{2} - 2 a_{1} a_{2} w + 2 a_{1} a_{2} + a_{2}^{2} w^{2} + 2 a_{2}^{2} w + a_{2}^{2}}}{2}, \\  1, \\  \\left[ \\left[\\begin{matrix}1 + \\frac{- \\frac{a_{1}}{2} - \\frac{a_{2} w}{2} - \\frac{a_{2}}{2} - \\frac{\\sqrt{a_{1}^{2} - 2 a_{1} a_{2} w + 2 a_{1} a_{2} + a_{2}^{2} w^{2} + 2 a_{2}^{2} w + a_{2}^{2}}}{2}}{a_{2} w}\\\\1\\end{matrix}\\right]\\right]\\right), \\  \\left( - \\frac{a_{1}}{2} - \\frac{a_{2} w}{2} - \\frac{a_{2}}{2} + \\frac{\\sqrt{a_{1}^{2} - 2 a_{1} a_{2} w + 2 a_{1} a_{2} + a_{2}^{2} w^{2} + 2 a_{2}^{2} w + a_{2}^{2}}}{2}, \\  1, \\  \\left[ \\left[\\begin{matrix}1 + \\frac{- \\frac{a_{1}}{2} - \\frac{a_{2} w}{2} - \\frac{a_{2}}{2} + \\frac{\\sqrt{a_{1}^{2} - 2 a_{1} a_{2} w + 2 a_{1} a_{2} + a_{2}^{2} w^{2} + 2 a_{2}^{2} w + a_{2}^{2}}}{2}}{a_{2} w}\\\\1\\end{matrix}\\right]\\right]\\right)\\right]$"
      ],
      "text/plain": [
       "⎡⎛                                                                            \n",
       "⎢⎜                      ____________________________________________________  \n",
       "⎢⎜                     ╱   2                           2  2       2       2   \n",
       "⎢⎜  a₁   a₂⋅w   a₂   ╲╱  a₁  - 2⋅a₁⋅a₂⋅w + 2⋅a₁⋅a₂ + a₂ ⋅w  + 2⋅a₂ ⋅w + a₂    \n",
       "⎢⎜- ── - ──── - ── - ───────────────────────────────────────────────────────, \n",
       "⎢⎜  2     2     2                               2                             \n",
       "⎢⎜                                                                            \n",
       "⎢⎜                                                                            \n",
       "⎣⎝                                                                            \n",
       "\n",
       "   ⎡⎡                          _______________________________________________\n",
       "   ⎢⎢                         ╱   2                           2  2       2    \n",
       "   ⎢⎢      a₁   a₂⋅w   a₂   ╲╱  a₁  - 2⋅a₁⋅a₂⋅w + 2⋅a₁⋅a₂ + a₂ ⋅w  + 2⋅a₂ ⋅w +\n",
       "   ⎢⎢    - ── - ──── - ── - ──────────────────────────────────────────────────\n",
       "1, ⎢⎢      2     2     2                               2                      \n",
       "   ⎢⎢1 + ─────────────────────────────────────────────────────────────────────\n",
       "   ⎢⎢                                       a₂⋅w                              \n",
       "   ⎢⎢                                                                         \n",
       "   ⎣⎣                                      1                                  \n",
       "\n",
       "_____⎤⎤⎞  ⎛                                                                   \n",
       "   2 ⎥⎥⎟  ⎜                      _____________________________________________\n",
       " a₂  ⎥⎥⎟  ⎜                     ╱   2                           2  2       2  \n",
       "─────⎥⎥⎟  ⎜  a₁   a₂⋅w   a₂   ╲╱  a₁  - 2⋅a₁⋅a₂⋅w + 2⋅a₁⋅a₂ + a₂ ⋅w  + 2⋅a₂ ⋅w\n",
       "     ⎥⎥⎟, ⎜- ── - ──── - ── + ────────────────────────────────────────────────\n",
       "─────⎥⎥⎟  ⎜  2     2     2                               2                    \n",
       "     ⎥⎥⎟  ⎜                                                                   \n",
       "     ⎥⎥⎟  ⎜                                                                   \n",
       "     ⎦⎦⎠  ⎝                                                                   \n",
       "\n",
       "            ⎡⎡                          ______________________________________\n",
       "_______     ⎢⎢                         ╱   2                           2  2   \n",
       "     2      ⎢⎢      a₁   a₂⋅w   a₂   ╲╱  a₁  - 2⋅a₁⋅a₂⋅w + 2⋅a₁⋅a₂ + a₂ ⋅w  + \n",
       " + a₂       ⎢⎢    - ── - ──── - ── + ─────────────────────────────────────────\n",
       "───────, 1, ⎢⎢      2     2     2                               2             \n",
       "            ⎢⎢1 + ────────────────────────────────────────────────────────────\n",
       "            ⎢⎢                                       a₂⋅w                     \n",
       "            ⎢⎢                                                                \n",
       "            ⎣⎣                                      1                         \n",
       "\n",
       "______________⎤⎤⎞⎤\n",
       "    2       2 ⎥⎥⎟⎥\n",
       "2⋅a₂ ⋅w + a₂  ⎥⎥⎟⎥\n",
       "──────────────⎥⎥⎟⎥\n",
       "              ⎥⎥⎟⎥\n",
       "──────────────⎥⎥⎟⎥\n",
       "              ⎥⎥⎟⎥\n",
       "              ⎥⎥⎟⎥\n",
       "              ⎦⎦⎠⎦"
      ]
     },
     "execution_count": 6,
     "metadata": {},
     "output_type": "execute_result"
    }
   ],
   "source": [
    "A.eigenvects()"
   ]
  },
  {
   "cell_type": "code",
   "execution_count": 7,
   "metadata": {},
   "outputs": [
    {
     "name": "stdout",
     "output_type": "stream",
     "text": [
      "[(-a_1/2 - a_2*w/2 - a_2/2 - sqrt(a_1**2 - 2*a_1*a_2*w + 2*a_1*a_2 + a_2**2*w**2 + 2*a_2**2*w + a_2**2)/2, 1, [Matrix([\n",
      "[1 + (-a_1/2 - a_2*w/2 - a_2/2 - sqrt(a_1**2 - 2*a_1*a_2*w + 2*a_1*a_2 + a_2**2*w**2 + 2*a_2**2*w + a_2**2)/2)/(a_2*w)],\n",
      "[                                                                                                                    1]])]), (-a_1/2 - a_2*w/2 - a_2/2 + sqrt(a_1**2 - 2*a_1*a_2*w + 2*a_1*a_2 + a_2**2*w**2 + 2*a_2**2*w + a_2**2)/2, 1, [Matrix([\n",
      "[1 + (-a_1/2 - a_2*w/2 - a_2/2 + sqrt(a_1**2 - 2*a_1*a_2*w + 2*a_1*a_2 + a_2**2*w**2 + 2*a_2**2*w + a_2**2)/2)/(a_2*w)],\n",
      "[                                                                                                                    1]])])]\n"
     ]
    }
   ],
   "source": [
    "print(A.eigenvects())"
   ]
  },
  {
   "cell_type": "code",
   "execution_count": 8,
   "metadata": {},
   "outputs": [],
   "source": [
    "Avect1 = Matrix([\n",
    "[1 + (-a_1/2 - a_2*w/2 - a_2/2 - sqrt(a_1**2 - 2*a_1*a_2*w + 2*a_1*a_2 + a_2**2*w**2 + 2*a_2**2*w + a_2**2)/2)/(a_2*w)],\n",
    "[                                                                                                                    1]])\n",
    "\n",
    "Avect2 = Matrix([\n",
    "[1 + (-a_1/2 - a_2*w/2 - a_2/2 + sqrt(a_1**2 - 2*a_1*a_2*w + 2*a_1*a_2 + a_2**2*w**2 + 2*a_2**2*w + a_2**2)/2)/(a_2*w)],\n",
    "[                                                                                                                    1]])"
   ]
  },
  {
   "cell_type": "markdown",
   "metadata": {},
   "source": [
    "### Fuldstændig løsning"
   ]
  },
  {
   "cell_type": "code",
   "execution_count": 9,
   "metadata": {},
   "outputs": [
    {
     "data": {
      "text/latex": [
       "$\\displaystyle \\left[\\begin{matrix}C_{1} \\cdot \\left(1 + \\frac{- \\frac{a_{1}}{2} - \\frac{a_{2} w}{2} - \\frac{a_{2}}{2} - \\frac{\\sqrt{a_{1}^{2} - 2 a_{1} a_{2} w + 2 a_{1} a_{2} + a_{2}^{2} w^{2} + 2 a_{2}^{2} w + a_{2}^{2}}}{2}}{a_{2} w}\\right) e^{t \\left(- \\frac{a_{1}}{2} - \\frac{a_{2} w}{2} - \\frac{a_{2}}{2} - \\frac{\\sqrt{a_{1}^{2} - 2 a_{1} a_{2} w + 2 a_{1} a_{2} + a_{2}^{2} w^{2} + 2 a_{2}^{2} w + a_{2}^{2}}}{2}\\right)} + C_{2} \\cdot \\left(1 + \\frac{- \\frac{a_{1}}{2} - \\frac{a_{2} w}{2} - \\frac{a_{2}}{2} + \\frac{\\sqrt{a_{1}^{2} - 2 a_{1} a_{2} w + 2 a_{1} a_{2} + a_{2}^{2} w^{2} + 2 a_{2}^{2} w + a_{2}^{2}}}{2}}{a_{2} w}\\right) e^{t \\left(- \\frac{a_{1}}{2} - \\frac{a_{2} w}{2} - \\frac{a_{2}}{2} + \\frac{\\sqrt{a_{1}^{2} - 2 a_{1} a_{2} w + 2 a_{1} a_{2} + a_{2}^{2} w^{2} + 2 a_{2}^{2} w + a_{2}^{2}}}{2}\\right)}\\\\C_{1} e^{t \\left(- \\frac{a_{1}}{2} - \\frac{a_{2} w}{2} - \\frac{a_{2}}{2} - \\frac{\\sqrt{a_{1}^{2} - 2 a_{1} a_{2} w + 2 a_{1} a_{2} + a_{2}^{2} w^{2} + 2 a_{2}^{2} w + a_{2}^{2}}}{2}\\right)} + C_{2} e^{t \\left(- \\frac{a_{1}}{2} - \\frac{a_{2} w}{2} - \\frac{a_{2}}{2} + \\frac{\\sqrt{a_{1}^{2} - 2 a_{1} a_{2} w + 2 a_{1} a_{2} + a_{2}^{2} w^{2} + 2 a_{2}^{2} w + a_{2}^{2}}}{2}\\right)}\\end{matrix}\\right]$"
      ],
      "text/plain": [
       "⎡   ⎛                          _______________________________________________\n",
       "⎢   ⎜                         ╱   2                           2  2       2    \n",
       "⎢   ⎜      a₁   a₂⋅w   a₂   ╲╱  a₁  - 2⋅a₁⋅a₂⋅w + 2⋅a₁⋅a₂ + a₂ ⋅w  + 2⋅a₂ ⋅w +\n",
       "⎢   ⎜    - ── - ──── - ── - ──────────────────────────────────────────────────\n",
       "⎢   ⎜      2     2     2                               2                      \n",
       "⎢C₁⋅⎜1 + ─────────────────────────────────────────────────────────────────────\n",
       "⎢   ⎝                                       a₂⋅w                              \n",
       "⎢                                                                             \n",
       "⎢                                                                             \n",
       "⎢                                                                             \n",
       "⎢                                                                             \n",
       "⎢                                                                             \n",
       "⎢                                                                             \n",
       "⎣                                                                             \n",
       "\n",
       "_____⎞    ⎛                      _____________________________________________\n",
       "   2 ⎟    ⎜                     ╱   2                           2  2       2  \n",
       " a₂  ⎟    ⎜  a₁   a₂⋅w   a₂   ╲╱  a₁  - 2⋅a₁⋅a₂⋅w + 2⋅a₁⋅a₂ + a₂ ⋅w  + 2⋅a₂ ⋅w\n",
       "─────⎟  t⋅⎜- ── - ──── - ── - ────────────────────────────────────────────────\n",
       "     ⎟    ⎝  2     2     2                               2                    \n",
       "─────⎟⋅ℯ                                                                      \n",
       "     ⎠                                                                        \n",
       "                                                                              \n",
       "          ⎛                      _____________________________________________\n",
       "          ⎜                     ╱   2                           2  2       2  \n",
       "          ⎜  a₁   a₂⋅w   a₂   ╲╱  a₁  - 2⋅a₁⋅a₂⋅w + 2⋅a₁⋅a₂ + a₂ ⋅w  + 2⋅a₂ ⋅w\n",
       "        t⋅⎜- ── - ──── - ── - ────────────────────────────────────────────────\n",
       "          ⎝  2     2     2                               2                    \n",
       "    C₁⋅ℯ                                                                      \n",
       "\n",
       "_______⎞      ⎛                          _____________________________________\n",
       "     2 ⎟      ⎜                         ╱   2                           2  2  \n",
       " + a₂  ⎟      ⎜      a₁   a₂⋅w   a₂   ╲╱  a₁  - 2⋅a₁⋅a₂⋅w + 2⋅a₁⋅a₂ + a₂ ⋅w  +\n",
       "───────⎟      ⎜    - ── - ──── - ── + ────────────────────────────────────────\n",
       "       ⎠      ⎜      2     2     2                               2            \n",
       "         + C₂⋅⎜1 + ───────────────────────────────────────────────────────────\n",
       "              ⎝                                       a₂⋅w                    \n",
       "                                                                              \n",
       "_______⎞         ⎛                      ______________________________________\n",
       "     2 ⎟         ⎜                     ╱   2                           2  2   \n",
       " + a₂  ⎟         ⎜  a₁   a₂⋅w   a₂   ╲╱  a₁  - 2⋅a₁⋅a₂⋅w + 2⋅a₁⋅a₂ + a₂ ⋅w  + \n",
       "───────⎟       t⋅⎜- ── - ──── - ── + ─────────────────────────────────────────\n",
       "       ⎠         ⎝  2     2     2                               2             \n",
       "         + C₂⋅ℯ                                                               \n",
       "\n",
       "_______________⎞    ⎛                      ___________________________________\n",
       "     2       2 ⎟    ⎜                     ╱   2                           2  2\n",
       " 2⋅a₂ ⋅w + a₂  ⎟    ⎜  a₁   a₂⋅w   a₂   ╲╱  a₁  - 2⋅a₁⋅a₂⋅w + 2⋅a₁⋅a₂ + a₂ ⋅w \n",
       "───────────────⎟  t⋅⎜- ── - ──── - ── + ──────────────────────────────────────\n",
       "               ⎟    ⎝  2     2     2                               2          \n",
       "───────────────⎟⋅ℯ                                                            \n",
       "               ⎠                                                              \n",
       "                                                                              \n",
       "______________⎞                                                               \n",
       "    2       2 ⎟                                                               \n",
       "2⋅a₂ ⋅w + a₂  ⎟                                                               \n",
       "──────────────⎟                                                               \n",
       "              ⎠                                                               \n",
       "                                                                              \n",
       "\n",
       "_________________⎞⎤\n",
       "       2       2 ⎟⎥\n",
       " + 2⋅a₂ ⋅w + a₂  ⎟⎥\n",
       "─────────────────⎟⎥\n",
       "                 ⎠⎥\n",
       "                  ⎥\n",
       "                  ⎥\n",
       "                  ⎥\n",
       "                  ⎥\n",
       "                  ⎥\n",
       "                  ⎥\n",
       "                  ⎥\n",
       "                  ⎥\n",
       "                  ⎦"
      ]
     },
     "execution_count": 9,
     "metadata": {},
     "output_type": "execute_result"
    }
   ],
   "source": [
    "C_1,C_2 = symbols('C_1,C_2', real=true)\n",
    "C_1*Avect1*exp(Aval1*t)+C_2*Avect2*exp(Aval2*t)"
   ]
  },
  {
   "cell_type": "code",
   "execution_count": 10,
   "metadata": {},
   "outputs": [
    {
     "data": {
      "text/latex": [
       "$\\displaystyle \\left[\\begin{matrix}\\frac{\\left(C_{1} \\left(- a_{1} + a_{2} w - a_{2} - \\sqrt{a_{1}^{2} - 2 a_{1} a_{2} w + 2 a_{1} a_{2} + a_{2}^{2} w^{2} + 2 a_{2}^{2} w + a_{2}^{2}}\\right) e^{\\frac{t \\left(a_{1} + a_{2} w + a_{2} - \\sqrt{a_{1}^{2} - 2 a_{1} a_{2} w + 2 a_{1} a_{2} + a_{2}^{2} w^{2} + 2 a_{2}^{2} w + a_{2}^{2}}\\right)}{2}} + C_{2} \\left(- a_{1} + a_{2} w - a_{2} + \\sqrt{a_{1}^{2} - 2 a_{1} a_{2} w + 2 a_{1} a_{2} + a_{2}^{2} w^{2} + 2 a_{2}^{2} w + a_{2}^{2}}\\right) e^{\\frac{t \\left(a_{1} + a_{2} w + a_{2} + \\sqrt{a_{1}^{2} - 2 a_{1} a_{2} w + 2 a_{1} a_{2} + a_{2}^{2} w^{2} + 2 a_{2}^{2} w + a_{2}^{2}}\\right)}{2}}\\right) e^{- t \\left(a_{1} + a_{2} w + a_{2}\\right)}}{2 a_{2} w}\\\\\\left(C_{1} + C_{2} e^{t \\sqrt{a_{1}^{2} - 2 a_{1} a_{2} w + 2 a_{1} a_{2} + a_{2}^{2} w^{2} + 2 a_{2}^{2} w + a_{2}^{2}}}\\right) e^{- \\frac{t \\left(a_{1} + a_{2} w + a_{2} + \\sqrt{a_{1}^{2} - 2 a_{1} a_{2} w + 2 a_{1} a_{2} + a_{2}^{2} w^{2} + 2 a_{2}^{2} w + a_{2}^{2}}\\right)}{2}}\\end{matrix}\\right]$"
      ],
      "text/plain": [
       "⎡⎛                                                                            \n",
       "⎢⎜                                                                            \n",
       "⎢⎜                                                                            \n",
       "⎢⎜   ⎛                     ___________________________________________________\n",
       "⎢⎜   ⎜                    ╱   2                           2  2       2       2\n",
       "⎢⎝C₁⋅⎝-a₁ + a₂⋅w - a₂ - ╲╱  a₁  - 2⋅a₁⋅a₂⋅w + 2⋅a₁⋅a₂ + a₂ ⋅w  + 2⋅a₂ ⋅w + a₂ \n",
       "⎢─────────────────────────────────────────────────────────────────────────────\n",
       "⎢                                                                             \n",
       "⎢                                                                             \n",
       "⎢                                                                             \n",
       "⎢                                                                             \n",
       "⎢                                                                             \n",
       "⎢                                                                             \n",
       "⎢                                                                             \n",
       "⎣                                                                             \n",
       "\n",
       "      ⎛                    ___________________________________________________\n",
       "      ⎜                   ╱   2                           2  2       2       2\n",
       "    t⋅⎝a₁ + a₂⋅w + a₂ - ╲╱  a₁  - 2⋅a₁⋅a₂⋅w + 2⋅a₁⋅a₂ + a₂ ⋅w  + 2⋅a₂ ⋅w + a₂ \n",
       "_⎞  ──────────────────────────────────────────────────────────────────────────\n",
       " ⎟                                       2                                    \n",
       " ⎠⋅ℯ                                                                          \n",
       "──────────────────────────────────────────────────────────────────────────────\n",
       "                                                                              \n",
       "                                                                              \n",
       "                                                                              \n",
       "                                                                              \n",
       "                  ⎛              _____________________________________________\n",
       "                  ⎜             ╱   2                           2  2       2  \n",
       "                  ⎜         t⋅╲╱  a₁  - 2⋅a₁⋅a₂⋅w + 2⋅a₁⋅a₂ + a₂ ⋅w  + 2⋅a₂ ⋅w\n",
       "                  ⎝C₁ + C₂⋅ℯ                                                  \n",
       "\n",
       "_⎞                                                                            \n",
       " ⎟                                                                            \n",
       " ⎠                                                                            \n",
       "──      ⎛                     ________________________________________________\n",
       "        ⎜                    ╱   2                           2  2       2     \n",
       "   + C₂⋅⎝-a₁ + a₂⋅w - a₂ + ╲╱  a₁  - 2⋅a₁⋅a₂⋅w + 2⋅a₁⋅a₂ + a₂ ⋅w  + 2⋅a₂ ⋅w + \n",
       "──────────────────────────────────────────────────────────────────────────────\n",
       "           2⋅a₂⋅w                                                             \n",
       "                                                                              \n",
       "             ⎛                    ____________________________________________\n",
       "             ⎜                   ╱   2                           2  2       2 \n",
       "_______⎞  -t⋅⎝a₁ + a₂⋅w + a₂ + ╲╱  a₁  - 2⋅a₁⋅a₂⋅w + 2⋅a₁⋅a₂ + a₂ ⋅w  + 2⋅a₂ ⋅\n",
       "     2 ⎟  ────────────────────────────────────────────────────────────────────\n",
       " + a₂  ⎟                                        2                             \n",
       "       ⎠⋅ℯ                                                                    \n",
       "\n",
       "         ⎛                    ________________________________________________\n",
       "         ⎜                   ╱   2                           2  2       2     \n",
       "       t⋅⎝a₁ + a₂⋅w + a₂ + ╲╱  a₁  - 2⋅a₁⋅a₂⋅w + 2⋅a₁⋅a₂ + a₂ ⋅w  + 2⋅a₂ ⋅w + \n",
       "____⎞  ───────────────────────────────────────────────────────────────────────\n",
       "  2 ⎟                                       2                                 \n",
       "a₂  ⎠⋅ℯ                                                                       \n",
       "──────────────────────────────────────────────────────────────────────────────\n",
       "                                                                              \n",
       "                                                                              \n",
       "________⎞                                                                     \n",
       "      2 ⎟                                                                     \n",
       "w + a₂  ⎠                                                                     \n",
       "──────────                                                                    \n",
       "                                                                              \n",
       "                                                                              \n",
       "\n",
       "____⎞⎞                     ⎤\n",
       "  2 ⎟⎟                     ⎥\n",
       "a₂  ⎠⎟                     ⎥\n",
       "─────⎟                     ⎥\n",
       "     ⎟  -t⋅(a₁ + a₂⋅w + a₂)⎥\n",
       "     ⎠⋅ℯ                   ⎥\n",
       "───────────────────────────⎥\n",
       "                           ⎥\n",
       "                           ⎥\n",
       "                           ⎥\n",
       "                           ⎥\n",
       "                           ⎥\n",
       "                           ⎥\n",
       "                           ⎥\n",
       "                           ⎦"
      ]
     },
     "execution_count": 10,
     "metadata": {},
     "output_type": "execute_result"
    }
   ],
   "source": [
    "simplify(C_1*Avect1*exp(Aval1*t)+C_2*Avect2*exp(Aval2*t))"
   ]
  },
  {
   "cell_type": "markdown",
   "metadata": {},
   "source": [
    "### TEST"
   ]
  },
  {
   "cell_type": "code",
   "execution_count": 11,
   "metadata": {},
   "outputs": [
    {
     "name": "stdout",
     "output_type": "stream",
     "text": [
      "Matrix([[C_1*(1 + (-a_1/2 - a_2*w/2 - a_2/2 - sqrt(a_1**2 - 2*a_1*a_2*w + 2*a_1*a_2 + a_2**2*w**2 + 2*a_2**2*w + a_2**2)/2)/(a_2*w))*exp(t*(-a_1/2 - a_2*w/2 - a_2/2 - sqrt(a_1**2 - 2*a_1*a_2*w + 2*a_1*a_2 + a_2**2*w**2 + 2*a_2**2*w + a_2**2)/2)) + C_2*(1 + (-a_1/2 - a_2*w/2 - a_2/2 + sqrt(a_1**2 - 2*a_1*a_2*w + 2*a_1*a_2 + a_2**2*w**2 + 2*a_2**2*w + a_2**2)/2)/(a_2*w))*exp(t*(-a_1/2 - a_2*w/2 - a_2/2 + sqrt(a_1**2 - 2*a_1*a_2*w + 2*a_1*a_2 + a_2**2*w**2 + 2*a_2**2*w + a_2**2)/2))], [C_1*exp(t*(-a_1/2 - a_2*w/2 - a_2/2 - sqrt(a_1**2 - 2*a_1*a_2*w + 2*a_1*a_2 + a_2**2*w**2 + 2*a_2**2*w + a_2**2)/2)) + C_2*exp(t*(-a_1/2 - a_2*w/2 - a_2/2 + sqrt(a_1**2 - 2*a_1*a_2*w + 2*a_1*a_2 + a_2**2*w**2 + 2*a_2**2*w + a_2**2)/2))]])\n"
     ]
    }
   ],
   "source": [
    "print(C_1*Avect1*exp(Aval1*t)+C_2*Avect2*exp(Aval2*t))\n"
   ]
  },
  {
   "cell_type": "markdown",
   "metadata": {},
   "source": [
    "### Regression og estimering af ukendte"
   ]
  },
  {
   "cell_type": "code",
   "execution_count": 12,
   "metadata": {},
   "outputs": [
    {
     "name": "stdout",
     "output_type": "stream",
     "text": [
      "Fitted parameters:\n",
      "A = 289.4169785756176\n",
      "B = -0.3562856788818812\n"
     ]
    },
    {
     "data": {
      "image/png": "[encoded data removed]",
      "text/plain": [
       "<Figure size 1000x500 with 1 Axes>"
      ]
     },
     "metadata": {},
     "output_type": "display_data"
    }
   ],
   "source": [
    "import numpy as np\n",
    "import matplotlib.pyplot as plt\n",
    "from scipy.optimize import curve_fit\n",
    "\n",
    "#Model\n",
    "def model(t, A, B):\n",
    "    return A * np.exp(B * t)\n",
    "\n",
    "#Data punkter\n",
    "t_data = np.array([3.5, 4.0, 4.5])\n",
    "y_data = np.array([83, 70, 58])\n",
    "\n",
    "#Curvefit\n",
    "params, params_covariance = curve_fit(model, t_data, y_data)\n",
    "\n",
    "#Parametre\n",
    "print(\"Fitted parameters:\")\n",
    "print(\"A =\", params[0])\n",
    "print(\"B =\", params[1])\n",
    "\n",
    "#Data til kurve\n",
    "t_fit = np.linspace(min(t_data), max(t_data), 100)\n",
    "y_fit = model(t_fit, *params)\n",
    "\n",
    "#Selve plottet\n",
    "plt.figure(figsize=(10, 5))\n",
    "plt.scatter(t_data, y_data, color='red', label='Data points')\n",
    "plt.plot(t_fit, y_fit, label='Fitted curve', color='blue')\n",
    "plt.title('Exponential Regression')\n",
    "plt.xlabel('t')\n",
    "plt.ylabel('f(t)')\n",
    "plt.legend()\n",
    "plt.show()\n"
   ]
  },
  {
   "cell_type": "code",
   "execution_count": 20,
   "metadata": {},
   "outputs": [
    {
     "data": {
      "image/png": "[encoded data removed]",
      "text/latex": [
       "$\\displaystyle \\left[ \\left( 0.901034392375545, \\  2.11315000478758, \\  0.822640823127041\\right)\\right]$"
      ],
      "text/plain": [
       "[(0.901034392375545, 2.11315000478758, 0.822640823127041)]"
      ]
     },
     "execution_count": 20,
     "metadata": {},
     "output_type": "execute_result"
    }
   ],
   "source": [
    "from scipy.optimize import fsolve\n",
    "import numpy as np\n",
    "C_1 = -846*a_2*w/sqrt(a_1**2 - 2*a_1*a_2*w + 2*a_1*a_2 + a_2**2*w**2 + 2*a_2**2*w + a_2**2)\n",
    "C_2 = 846*a_2*w/sqrt(a_1**2 - 2*a_1*a_2*w + 2*a_1*a_2 + a_2**2*w**2 + 2*a_2**2*w + a_2**2)\n",
    "val35 = simplify(C_1*(1 + (-a_1/2 - a_2*w/2 - a_2/2 + sqrt(a_1**2 - 2*a_1*a_2*w + 2*a_1*a_2 + a_2**2*w**2 + 2*a_2**2*w + a_2**2)/2)/(a_2*w))*exp(3.5*(-a_1/2 - a_2*w/2 - a_2/2 + sqrt(a_1**2 - 2*a_1*a_2*w + 2*a_1*a_2 + a_2**2*w**2 + 2*a_2**2*w + a_2**2)/2)))\n",
    "val4 = simplify(C_1*(1 + (-a_1/2 - a_2*w/2 - a_2/2 + sqrt(a_1**2 - 2*a_1*a_2*w + 2*a_1*a_2 + a_2**2*w**2 + 2*a_2**2*w + a_2**2)/2)/(a_2*w))*exp(4*(-a_1/2 - a_2*w/2 - a_2/2 + sqrt(a_1**2 - 2*a_1*a_2*w + 2*a_1*a_2 + a_2**2*w**2 + 2*a_2**2*w + a_2**2)/2)))\n",
    "val45 = simplify(C_1*(1 + (-a_1/2 - a_2*w/2 - a_2/2 + sqrt(a_1**2 - 2*a_1*a_2*w + 2*a_1*a_2 + a_2**2*w**2 + 2*a_2**2*w + a_2**2)/2)/(a_2*w))*exp(4.5*(-a_1/2 - a_2*w/2 - a_2/2 + sqrt(a_1**2 - 2*a_1*a_2*w + 2*a_1*a_2 + a_2**2*w**2 + 2*a_2**2*w + a_2**2)/2)))\n",
    "tt0 = C_1*exp(t*(-a_1/2 - a_2*w/2 - a_2/2 - sqrt(a_1**2 - 2*a_1*a_2*w + 2*a_1*a_2 + a_2**2*w**2 + 2*a_2**2*w + a_2**2)/2)) + C_2*exp(t*(-a_1/2 - a_2*w/2 - a_2/2 + sqrt(a_1**2 - 2*a_1*a_2*w + 2*a_1*a_2 + a_2**2*w**2 + 2*a_2**2*w + a_2**2)/2))\n",
    "\n",
    "\n",
    "\n",
    "eqs1 = Eq(simplify(C_2*(1 + (-a_1/2 - a_2*w/2 - a_2/2 + sqrt(a_1**2 - 2*a_1*a_2*w + 2*a_1*a_2 + a_2**2*w**2 + 2*a_2**2*w + a_2**2)/2)/(a_2*w))),289.416981025449)\n",
    "eqs2 = Eq(simplify((-a_1/2 - a_2*w/2 - a_2/2 + sqrt(a_1**2 - 2*a_1*a_2*w + 2*a_1*a_2 + a_2**2*w**2 + 2*a_2**2*w + a_2**2)/2)), -0.3562856810630704)\n",
    "ft = C_1*(1 + (-a_1/2 - a_2*w/2 - a_2/2 - sqrt(a_1**2 - 2*a_1*a_2*w + 2*a_1*a_2 + a_2**2*w**2 + 2*a_2**2*w + a_2**2)/2)/(a_2*w))*exp(t*(-a_1/2 - a_2*w/2 - a_2/2 - sqrt(a_1**2 - 2*a_1*a_2*w + 2*a_1*a_2 + a_2**2*w**2 + 2*a_2**2*w + a_2**2)/2)) + C_2*(1 + (-a_1/2 - a_2*w/2 - a_2/2 + sqrt(a_1**2 - 2*a_1*a_2*w + 2*a_1*a_2 + a_2**2*w**2 + 2*a_2**2*w + a_2**2)/2)/(a_2*w))*exp(t*(-a_1/2 - a_2*w/2 - a_2/2 + sqrt(a_1**2 - 2*a_1*a_2*w + 2*a_1*a_2 + a_2**2*w**2 + 2*a_2**2*w + a_2**2)/2))\n",
    "\n",
    "\n",
    "eqs1 = Eq(simplify(C_2*(1 + (-a_1/2 - a_2*w/2 - a_2/2 + sqrt(a_1**2 - 2*a_1*a_2*w + 2*a_1*a_2 + a_2**2*w**2 + 2*a_2**2*w + a_2**2)/2)/(a_2*w))),289.416981025449) #Hvor C_2 er fundet før. Dette er vores 'A'\n",
    "eqs2 = Eq(simplify((-a_1/2 - a_2*w/2 - a_2/2 + sqrt(a_1**2 - 2*a_1*a_2*w + 2*a_1*a_2 + a_2**2*w**2 + 2*a_2**2*w + a_2**2)/2)), -0.3562856810630704) #Dette er vores 'B'\n",
    "kt = simplify(ft.diff(t).subs({t:0}))\n",
    "eqs6 = Eq(kt,-2550) #Dette er fores f'(t) = -2550\n",
    "\n",
    "sol2 = solve([eqs1,eqs2,eqs6],[a_1,a_2,w]) #Her løser vi.\n",
    "sol2 #printer resultatet"
   ]
  },
  {
   "cell_type": "code",
   "execution_count": 14,
   "metadata": {},
   "outputs": [
    {
     "data": {
      "image/png": "[encoded data removed]",
      "text/latex": [
       "$\\displaystyle \\left[ \\left( \\frac{- \\frac{846 a_{1} a_{2} w}{\\sqrt{a_{1}^{2} - 2 a_{1} a_{2} w + 2 a_{1} a_{2} + a_{2}^{2} w^{2} + 2 a_{2}^{2} w + a_{2}^{2}}} + \\frac{846 a_{2}^{2} w^{2}}{\\sqrt{a_{1}^{2} - 2 a_{1} a_{2} w + 2 a_{1} a_{2} + a_{2}^{2} w^{2} + 2 a_{2}^{2} w + a_{2}^{2}}} - \\frac{846 a_{2}^{2} w}{\\sqrt{a_{1}^{2} - 2 a_{1} a_{2} w + 2 a_{1} a_{2} + a_{2}^{2} w^{2} + 2 a_{2}^{2} w + a_{2}^{2}}} - 846 a_{2} w}{a_{1} - a_{2} w + a_{2} + \\sqrt{a_{1}^{2} - 2 a_{1} a_{2} w + 2 a_{1} a_{2} + a_{2}^{2} w^{2} + 2 a_{2}^{2} w + a_{2}^{2}}}, \\  \\frac{846 a_{2} w}{\\sqrt{a_{1}^{2} - 2 a_{1} a_{2} w + 2 a_{1} a_{2} + a_{2}^{2} w^{2} + 2 a_{2}^{2} w + a_{2}^{2}}}\\right)\\right]$"
      ],
      "text/plain": [
       "⎡⎛                                                                            \n",
       "⎢⎜                        846⋅a₁⋅a₂⋅w                                         \n",
       "⎢⎜- ─────────────────────────────────────────────────────── + ────────────────\n",
       "⎢⎜     ____________________________________________________      _____________\n",
       "⎢⎜    ╱   2                           2  2       2       2      ╱   2         \n",
       "⎢⎜  ╲╱  a₁  - 2⋅a₁⋅a₂⋅w + 2⋅a₁⋅a₂ + a₂ ⋅w  + 2⋅a₂ ⋅w + a₂     ╲╱  a₁  - 2⋅a₁⋅a\n",
       "⎢⎜────────────────────────────────────────────────────────────────────────────\n",
       "⎢⎜                                                                            \n",
       "⎢⎜                                                                           ╱\n",
       "⎣⎝                                                        a₁ - a₂⋅w + a₂ + ╲╱ \n",
       "\n",
       "             2  2                                                      2      \n",
       "       846⋅a₂ ⋅w                                                 846⋅a₂ ⋅w    \n",
       "─────────────────────────────────────── - ────────────────────────────────────\n",
       "_______________________________________      _________________________________\n",
       "                  2  2       2       2      ╱   2                           2 \n",
       "₂⋅w + 2⋅a₁⋅a₂ + a₂ ⋅w  + 2⋅a₂ ⋅w + a₂     ╲╱  a₁  - 2⋅a₁⋅a₂⋅w + 2⋅a₁⋅a₂ + a₂ ⋅\n",
       "──────────────────────────────────────────────────────────────────────────────\n",
       "____________________________________________________                          \n",
       "   2                           2  2       2       2                           \n",
       " a₁  - 2⋅a₁⋅a₂⋅w + 2⋅a₁⋅a₂ + a₂ ⋅w  + 2⋅a₂ ⋅w + a₂                            \n",
       "\n",
       "                                                                              \n",
       "                                                                              \n",
       "─────────────────── - 846⋅a₂⋅w                                                \n",
       "___________________                                                           \n",
       " 2       2       2                                                            \n",
       "w  + 2⋅a₂ ⋅w + a₂                                       846⋅a₂⋅w              \n",
       "──────────────────────────────, ──────────────────────────────────────────────\n",
       "                                   ___________________________________________\n",
       "                                  ╱   2                           2  2       2\n",
       "                                ╲╱  a₁  - 2⋅a₁⋅a₂⋅w + 2⋅a₁⋅a₂ + a₂ ⋅w  + 2⋅a₂ \n",
       "\n",
       "         ⎞⎤\n",
       "         ⎟⎥\n",
       "         ⎟⎥\n",
       "         ⎟⎥\n",
       "         ⎟⎥\n",
       "         ⎟⎥\n",
       "─────────⎟⎥\n",
       "_________⎟⎥\n",
       "       2 ⎟⎥\n",
       "⋅w + a₂  ⎠⎦"
      ]
     },
     "execution_count": 14,
     "metadata": {},
     "output_type": "execute_result"
    }
   ],
   "source": [
    "C_1 = symbols('C_1')\n",
    "eqx = Eq(C_1*(1 + (-a_1/2 - a_2*w/2 - a_2/2 - sqrt(a_1**2 - 2*a_1*a_2*w + 2*a_1*a_2 + a_2**2*w**2 + 2*a_2**2*w + a_2**2)/2)/(a_2*w))*exp(0*(-a_1/2 - a_2*w/2 - a_2/2 - sqrt(a_1**2 - 2*a_1*a_2*w + 2*a_1*a_2 + a_2**2*w**2 + 2*a_2**2*w + a_2**2)/2)) + C_2*(1 + (-a_1/2 - a_2*w/2 - a_2/2 + sqrt(a_1**2 - 2*a_1*a_2*w + 2*a_1*a_2 + a_2**2*w**2 + 2*a_2**2*w + a_2**2)/2)/(a_2*w))*exp(0*(-a_1/2 - a_2*w/2 - a_2/2 + sqrt(a_1**2 - 2*a_1*a_2*w + 2*a_1*a_2 + a_2**2*w**2 + 2*a_2**2*w + a_2**2)/2)),846)\n",
    "solx = solve(eqx,C_1,C_2)\n",
    "solx"
   ]
  },
  {
   "cell_type": "code",
   "execution_count": 15,
   "metadata": {},
   "outputs": [
    {
     "name": "stdout",
     "output_type": "stream",
     "text": [
      "846*a_2*w/sqrt(a_1**2 - 2*a_1*a_2*w + 2*a_1*a_2 + a_2**2*w**2 + 2*a_2**2*w + a_2**2)\n"
     ]
    }
   ],
   "source": [
    "print(simplify(solx[0][1]))"
   ]
  },
  {
   "cell_type": "code",
   "execution_count": 16,
   "metadata": {},
   "outputs": [
    {
     "name": "stdout",
     "output_type": "stream",
     "text": [
      "Fitted parameters:\n",
      "A = 377.42957454874033\n",
      "B = -0.4230403236190374\n"
     ]
    },
    {
     "data": {
      "image/png": "[encoded data removed]",
      "text/plain": [
       "<Figure size 1000x500 with 1 Axes>"
      ]
     },
     "metadata": {},
     "output_type": "display_data"
    }
   ],
   "source": [
    "import numpy as np\n",
    "import matplotlib.pyplot as plt\n",
    "from scipy.optimize import curve_fit\n",
    "\n",
    "# Define the model function\n",
    "def model(t, A, B):\n",
    "    return A * np.exp(B * t)\n",
    "\n",
    "# Data points\n",
    "t_data = np.array([2.5,3,3.5, 4.0, 4.5])\n",
    "y_data = np.array([132,106,83, 70, 58])\n",
    "\n",
    "# Provide initial guesses for the parameters\n",
    "initial_guesses = [100, -0.1]  # Adjust based on your expectations\n",
    "\n",
    "# Curve fitting with provided initial guesses\n",
    "params, params_covariance = curve_fit(model, t_data, y_data, p0=initial_guesses)\n",
    "\n",
    "# Print the parameters\n",
    "print(\"Fitted parameters:\")\n",
    "print(\"A =\", params[0])\n",
    "print(\"B =\", params[1])\n",
    "\n",
    "# Generate data for the fitted curve\n",
    "t_fit = np.linspace(min(t_data), max(t_data), 100)\n",
    "y_fit = model(t_fit, *params)\n",
    "\n",
    "# Plotting\n",
    "plt.figure(figsize=(10, 5))\n",
    "plt.scatter(t_data, y_data, color='red', label='Data points')\n",
    "plt.plot(t_fit, y_fit, label='Fitted curve', color='blue')\n",
    "plt.title('Exponential Regression')\n",
    "plt.xlabel('t')\n",
    "plt.ylabel('f(t)')\n",
    "plt.legend()\n",
    "plt.show()\n"
   ]
  },
  {
   "cell_type": "markdown",
   "metadata": {},
   "source": [
    "### Lidt forskellige prøver af f.eks. estimering ved brug af sidste 5 værdier."
   ]
  },
  {
   "cell_type": "code",
   "execution_count": 21,
   "metadata": {},
   "outputs": [
    {
     "data": {
      "image/png": "[encoded data removed]",
      "text/latex": [
       "$\\displaystyle \\left[ \\left( 0.859724592072376, \\  2.15445980509074, \\  1.1651112194877\\right)\\right]$"
      ],
      "text/plain": [
       "[(0.859724592072376, 2.15445980509074, 1.1651112194877)]"
      ]
     },
     "execution_count": 21,
     "metadata": {},
     "output_type": "execute_result"
    }
   ],
   "source": [
    "ftx = C_1*(1 + (-a_1/2 - a_2*w/2 - a_2/2 - sqrt(a_1**2 - 2*a_1*a_2*w + 2*a_1*a_2 + a_2**2*w**2 + 2*a_2**2*w + a_2**2)/2)/(a_2*w))*exp(t*(-a_1/2 - a_2*w/2 - a_2/2 - sqrt(a_1**2 - 2*a_1*a_2*w + 2*a_1*a_2 + a_2**2*w**2 + 2*a_2**2*w + a_2**2)/2)) + C_2*(1 + (-a_1/2 - a_2*w/2 - a_2/2 + sqrt(a_1**2 - 2*a_1*a_2*w + 2*a_1*a_2 + a_2**2*w**2 + 2*a_2**2*w + a_2**2)/2)/(a_2*w))*exp(t*(-a_1/2 - a_2*w/2 - a_2/2 + sqrt(a_1**2 - 2*a_1*a_2*w + 2*a_1*a_2 + a_2**2*w**2 + 2*a_2**2*w + a_2**2)/2))\n",
    "fmtx = simplify(ftx.diff(t).subs({t:0}))\n",
    "\n",
    "\n",
    "xq1 = Eq(C_2*(1 + (-a_1/2 - a_2*w/2 - a_2/2 + sqrt(a_1**2 - 2*a_1*a_2*w + 2*a_1*a_2 + a_2**2*w**2 + 2*a_2**2*w + a_2**2)/2)/(a_2*w)),377.42957454874033) #med sidste 5 observationer!\n",
    "xq2 = Eq((-a_1/2 - a_2*w/2 - a_2/2 + sqrt(a_1**2 - 2*a_1*a_2*w + 2*a_1*a_2 + a_2**2*w**2 + 2*a_2**2*w + a_2**2)/2),-0.4230403236190374) #med sidste 5 observationer!\n",
    "xq3 = Eq(fmtx,-2550)\n",
    "\n",
    "sol4 = solve([xq1,xq2,xq3],[a_1,a_2,w])\n",
    "sol4"
   ]
  },
  {
   "cell_type": "code",
   "execution_count": 22,
   "metadata": {},
   "outputs": [
    {
     "data": {
      "image/png": "[encoded data removed]",
      "text/latex": [
       "$\\displaystyle - 257.405078670381 \\sqrt{2} \\left(- 0.821662109747398 \\sqrt{2} - 0.366960353137529\\right) e^{t \\left(-2.37627392824625 - 1.42834738750035 \\sqrt{2}\\right)} + 257.405078670381 \\sqrt{2} \\left(-0.366960353137529 + 0.821662109747398 \\sqrt{2}\\right) e^{t \\left(-2.37627392824625 + 1.42834738750035 \\sqrt{2}\\right)}$"
      ],
      "text/plain": [
       "                                                                   t⋅(-2.37627\n",
       "- 257.405078670381⋅√2⋅(-0.821662109747398⋅√2 - 0.366960353137529)⋅ℯ           \n",
       "\n",
       "392824625 - 1.42834738750035⋅√2)                                              \n",
       "                                 + 257.405078670381⋅√2⋅(-0.366960353137529 + 0\n",
       "\n",
       "                      t⋅(-2.37627392824625 + 1.42834738750035⋅√2)\n",
       ".821662109747398⋅√2)⋅ℯ                                           "
      ]
     },
     "execution_count": 22,
     "metadata": {},
     "output_type": "execute_result"
    }
   ],
   "source": [
    "(C_1*(1 + (-a_1/2 - a_2*w/2 - a_2/2 - sqrt(a_1**2 - 2*a_1*a_2*w + 2*a_1*a_2 + a_2**2*w**2 + 2*a_2**2*w + a_2**2)/2)/(a_2*w))*exp(t*(-a_1/2 - a_2*w/2 - a_2/2 - sqrt(a_1**2 - 2*a_1*a_2*w + 2*a_1*a_2 + a_2**2*w**2 + 2*a_2**2*w + a_2**2)/2)) + C_2*(1 + (-a_1/2 - a_2*w/2 - a_2/2 + sqrt(a_1**2 - 2*a_1*a_2*w + 2*a_1*a_2 + a_2**2*w**2 + 2*a_2**2*w + a_2**2)/2)/(a_2*w))*exp(t*(-a_1/2 - a_2*w/2 - a_2/2 + sqrt(a_1**2 - 2*a_1*a_2*w + 2*a_1*a_2 + a_2**2*w**2 + 2*a_2**2*w + a_2**2)/2))).subs({a_1:0.901034392375545,a_2:2.11315000478758,w:0.822640823127041})"
   ]
  },
  {
   "cell_type": "code",
   "execution_count": 23,
   "metadata": {},
   "outputs": [
    {
     "data": {
      "image/png": "[encoded data removed]",
      "text/latex": [
       "$\\displaystyle 838.208616583698$"
      ],
      "text/plain": [
       "838.208616583698"
      ]
     },
     "execution_count": 23,
     "metadata": {},
     "output_type": "execute_result"
    }
   ],
   "source": [
    "C_min_egenværdi = -846*a_2*w/sqrt(a_1**2 - 2*a_1*a_2*w + 2*a_1*a_2 + a_2**2*w**2 + 2*a_2**2*w + a_2**2)\n",
    "xD = C_min_egenværdi*(1 + (-a_1/2 - a_2*w/2 - a_2/2 - sqrt(a_1**2 - 2*a_1*a_2*w + 2*a_1*a_2 + a_2**2*w**2 + 2*a_2**2*w + a_2**2)/2)/(a_2*w))*exp(t*(-a_1/2 - a_2*w/2 - a_2/2 - sqrt(a_1**2 - 2*a_1*a_2*w + 2*a_1*a_2 + a_2**2*w**2 + 2*a_2**2*w + a_2**2)/2))\n",
    "xDD = xD.subs({a_1:0.001,a_2:0.001,w:0.001})\n",
    "\n",
    "limit(xDD,t,4.5).evalf()"
   ]
  },
  {
   "cell_type": "code",
   "execution_count": null,
   "metadata": {},
   "outputs": [
    {
     "data": {
      "image/png": "[encoded data removed]",
      "text/latex": [
       "$\\displaystyle 21.1815602121251$"
      ],
      "text/plain": [
       "21.1815602121251"
      ]
     },
     "execution_count": 44,
     "metadata": {},
     "output_type": "execute_result"
    }
   ],
   "source": [
    "C_max_egenværdi = 846*a_2*w/sqrt(a_1**2 - 2*a_1*a_2*w + 2*a_1*a_2 + a_2**2*w**2 + 2*a_2**2*w + a_2**2)\n",
    "xD2 = C_max_egenværdi*(1 + (-a_1/2 - a_2*w/2 - a_2/2 + sqrt(a_1**2 - 2*a_1*a_2*w + 2*a_1*a_2 + a_2**2*w**2 + 2*a_2**2*w + a_2**2)/2)/(a_2*w))*exp(t*(-a_1/2 - a_2*w/2 - a_2/2 + sqrt(a_1**2 - 2*a_1*a_2*w + 2*a_1*a_2 + a_2**2*w**2 + 2*a_2**2*w + a_2**2)/2))\n",
    "xDD2 = xD2.subs({a_1:0.1,a_2:0.1,w:0.1})\n",
    "\n",
    "limit(xDD2,t,4.5).evalf()"
   ]
  },
  {
   "cell_type": "markdown",
   "metadata": {},
   "source": [
    "### Regression til f'(t)"
   ]
  },
  {
   "cell_type": "code",
   "execution_count": null,
   "metadata": {},
   "outputs": [
    {
     "name": "stdout",
     "output_type": "stream",
     "text": [
      "Fitted parameters:\n",
      "A = -2550.0\n",
      "B = 846.0\n"
     ]
    },
    {
     "name": "stderr",
     "output_type": "stream",
     "text": [
      "/Users/emilehourmanditlefsen/anaconda3/lib/python3.10/site-packages/scipy/optimize/_minpack_py.py:906: OptimizeWarning: Covariance of the parameters could not be estimated\n",
      "  warnings.warn('Covariance of the parameters could not be estimated',\n"
     ]
    },
    {
     "data": {
      "image/png": "[encoded data removed]",
      "text/plain": [
       "<Figure size 1000x500 with 1 Axes>"
      ]
     },
     "metadata": {},
     "output_type": "display_data"
    }
   ],
   "source": [
    "import numpy as np\n",
    "import matplotlib.pyplot as plt\n",
    "from scipy.optimize import curve_fit\n",
    "\n",
    "#Model\n",
    "def model(t, A, B):\n",
    "    return A * t+B\n",
    "\n",
    "#Data punkter\n",
    "t_data = np.array([0,0.1])\n",
    "y_data = np.array([846, 591])\n",
    "\n",
    "#Curvefit\n",
    "params, params_covariance = curve_fit(model, t_data, y_data)\n",
    "\n",
    "#Parametre\n",
    "print(\"Fitted parameters:\")\n",
    "print(\"A =\", params[0])\n",
    "print(\"B =\", params[1])\n",
    "\n",
    "#Data til kurve\n",
    "t_fit = np.linspace(min(t_data), max(t_data), 100)\n",
    "y_fit = model(t_fit, *params)\n",
    "\n",
    "#Selve plottet\n",
    "plt.figure(figsize=(10, 5))\n",
    "plt.scatter(t_data, y_data, color='red', label='Data points')\n",
    "plt.plot(t_fit, y_fit, label='Fitted curve', color='blue')\n",
    "plt.title('Exponential Regression')\n",
    "plt.xlabel('t')\n",
    "plt.ylabel('f(t)')\n",
    "plt.legend()\n",
    "plt.show()"
   ]
  },
  {
   "cell_type": "code",
   "execution_count": null,
   "metadata": {},
   "outputs": [],
   "source": [
    "a_1,a_2,w = symbols('a_1,a_2,w')\n",
    "C_1 = -846*a_2*w/sqrt(a_1**2 - 2*a_1*a_2*w + 2*a_1*a_2 + a_2**2*w**2 + 2*a_2**2*w + a_2**2)\n",
    "C_2 = 846*a_2*w/sqrt(a_1**2 - 2*a_1*a_2*w + 2*a_1*a_2 + a_2**2*w**2 + 2*a_2**2*w + a_2**2)\n",
    "\n",
    "main = C_1*(1 + (-a_1/2 - a_2*w/2 - a_2/2 - sqrt(a_1**2 - 2*a_1*a_2*w + 2*a_1*a_2 + a_2**2*w**2 + 2*a_2**2*w + a_2**2)/2)/(a_2*w))*exp(t*(-a_1/2 - a_2*w/2 - a_2/2 - sqrt(a_1**2 - 2*a_1*a_2*w + 2*a_1*a_2 + a_2**2*w**2 + 2*a_2**2*w + a_2**2)/2)) + C_2*(1 + (-a_1/2 - a_2*w/2 - a_2/2 + sqrt(a_1**2 - 2*a_1*a_2*w + 2*a_1*a_2 + a_2**2*w**2 + 2*a_2**2*w + a_2**2)/2)/(a_2*w))*exp(t*(-a_1/2 - a_2*w/2 - a_2/2 + sqrt(a_1**2 - 2*a_1*a_2*w + 2*a_1*a_2 + a_2**2*w**2 + 2*a_2**2*w + a_2**2)/2))\n",
    "fxt = main.diff(t)\n",
    "fxxt = fxt.subs({t:0})\n",
    "\n",
    "meq1 = Eq(simplify(fxxt),-2550)\n",
    "meq2 = Eq(simplify(C_2*(1 + (-a_1/2 - a_2*w/2 - a_2/2 + sqrt(a_1**2 - 2*a_1*a_2*w + 2*a_1*a_2 + a_2**2*w**2 + 2*a_2**2*w + a_2**2)/2)/(a_2*w))),289.4169785756176)\n",
    "meq3 = Eq(simplify((-a_1/2 - a_2*w/2 - a_2/2 + sqrt(a_1**2 - 2*a_1*a_2*w + 2*a_1*a_2 + a_2**2*w**2 + 2*a_2**2*w + a_2**2)/2)),-0.3562856788818812)\n",
    "\n",
    "#msolved = solve([meq1,meq2,meq3],[a_1,a_2,w])\n",
    "#msolved"
   ]
  },
  {
   "cell_type": "code",
   "execution_count": null,
   "metadata": {},
   "outputs": [
    {
     "name": "stdout",
     "output_type": "stream",
     "text": [
      "-846*a_2*w*(1 + (-a_1/2 - a_2*w/2 - a_2/2 - sqrt(a_1**2 - 2*a_1*a_2*w + 2*a_1*a_2 + a_2**2*w**2 + 2*a_2**2*w + a_2**2)/2)/(a_2*w))*(-a_1/2 - a_2*w/2 - a_2/2 - sqrt(a_1**2 - 2*a_1*a_2*w + 2*a_1*a_2 + a_2**2*w**2 + 2*a_2**2*w + a_2**2)/2)/sqrt(a_1**2 - 2*a_1*a_2*w + 2*a_1*a_2 + a_2**2*w**2 + 2*a_2**2*w + a_2**2) + 846*a_2*w*(1 + (-a_1/2 - a_2*w/2 - a_2/2 + sqrt(a_1**2 - 2*a_1*a_2*w + 2*a_1*a_2 + a_2**2*w**2 + 2*a_2**2*w + a_2**2)/2)/(a_2*w))*(-a_1/2 - a_2*w/2 - a_2/2 + sqrt(a_1**2 - 2*a_1*a_2*w + 2*a_1*a_2 + a_2**2*w**2 + 2*a_2**2*w + a_2**2)/2)/sqrt(a_1**2 - 2*a_1*a_2*w + 2*a_1*a_2 + a_2**2*w**2 + 2*a_2**2*w + a_2**2)\n"
     ]
    }
   ],
   "source": [
    "print(fxxt)"
   ]
  },
  {
   "cell_type": "markdown",
   "metadata": {},
   "source": [
    "### Fsolve til opgave 7"
   ]
  },
  {
   "cell_type": "code",
   "execution_count": null,
   "metadata": {},
   "outputs": [
    {
     "name": "stdout",
     "output_type": "stream",
     "text": [
      "Solution: [0.89699773 3.05690702 1.07665091]\n"
     ]
    }
   ],
   "source": [
    "from sympy import *\n",
    "from scipy.optimize import fsolve\n",
    "import numpy as np\n",
    "\n",
    "#Symboelr\n",
    "a_1, a_2, w, t = symbols('a_1 a_2 w t')\n",
    "\n",
    "#Hovedudtryk\n",
    "main = -846*a_2*w*(1 + (-a_1/2 - a_2*w/2 - a_2/2 - sqrt(a_1**2 - 2*a_1*a_2*w + 2*a_1*a_2 + a_2**2*w**2 + 2*a_2**2*w + a_2**2)/2)/(a_2*w))*exp(t*(-a_1/2 - a_2*w/2 - a_2/2 - sqrt(a_1**2 - 2*a_1*a_2*w + 2*a_1*a_2 + a_2**2*w**2 + 2*a_2**2*w + a_2**2)/2))/sqrt(a_1**2 - 2*a_1*a_2*w + 2*a_1*a_2 + a_2**2*w**2 + 2*a_2**2*w + a_2**2) + 846*a_2*w*(1 + (-a_1/2 - a_2*w/2 - a_2/2 + sqrt(a_1**2 - 2*a_1*a_2*w + 2*a_1*a_2 + a_2**2*w**2 + 2*a_2**2*w + a_2**2)/2)/(a_2*w))*exp(t*(-a_1/2 - a_2*w/2 - a_2/2 + sqrt(a_1**2 - 2*a_1*a_2*w + 2*a_1*a_2 + a_2**2*w**2 + 2*a_2**2*w + a_2**2)/2))/sqrt(a_1**2 - 2*a_1*a_2*w + 2*a_1*a_2 + a_2**2*w**2 + 2*a_2**2*w + a_2**2)\n",
    "\n",
    "led1 = (864-main.subs({t:0}))**2\n",
    "led2 = (591-main.subs({t:0.1}))**2\n",
    "led3 = (468-main.subs({t:0.2}))**2\n",
    "led4 = (385-main.subs({t:0.3}))**2\n",
    "led5 = (374-main.subs({t:0.4}))**2\n",
    "led6 = (325-main.subs({t:0.5}))**2\n",
    "led7 = (229-main.subs({t:1}))**2\n",
    "led8 = (183-main.subs({t:1.5}))**2\n",
    "led9 = (166-main.subs({t:2}))**2\n",
    "led10 = (132-main.subs({t:2.5}))**2\n",
    "led11 = (106-main.subs({t:3}))**2\n",
    "led12 = (83-main.subs({t:3.5}))**2\n",
    "led13 = (70-main.subs({t:4}))**2\n",
    "led14 = (58-main.subs({t:4.5}))**2\n",
    "\n",
    "#Vores substitution and beregning af E\n",
    "leds = [led1, led2, led3, led4, led5, led6, led7, led8, led9, led10, led11, led12, led13, led14]\n",
    "E = sqrt(sum(leds))\n",
    "\n",
    "#Differentieret\n",
    "eeq1 = diff(E, a_1)\n",
    "eeq2 = diff(E, a_2)\n",
    "eeq3 = diff(E, w)\n",
    "\n",
    "#Lambdify konverterer symboliske udtryk til numeriske funktioner, sådan at fsolve kan forstå det.\n",
    "func1 = lambdify((a_1, a_2, w), eeq1)\n",
    "func2 = lambdify((a_1, a_2, w), eeq2)\n",
    "func3 = lambdify((a_1, a_2, w), eeq3)\n",
    "\n",
    "def equations(vars): #sætter det op i en ny, samlet funktion for fsolve\n",
    "    a1, a2, w_ = vars\n",
    "    return [func1(a1, a2, w_), func2(a1, a2, w_), func3(a1, a2, w_)]\n",
    "\n",
    "#fsolve finder de numeriske løsninger\n",
    "initial_guesses = [0.901034392375545, 2.11315000478758, 0.822640823127041]#startgæt\n",
    "solution = fsolve(equations, initial_guesses)\n",
    "solution\n"
   ]
  }
 ],
 "metadata": {
  "kernelspec": {
   "display_name": "base",
   "language": "python",
   "name": "python3"
  },
  "language_info": {
   "codemirror_mode": {
    "name": "ipython",
    "version": 3
   },
   "file_extension": ".py",
   "mimetype": "text/x-python",
   "name": "python",
   "nbconvert_exporter": "python",
   "pygments_lexer": "ipython3",
   "version": "3.10.13"
  },
  "orig_nbformat": 4
 },
 "nbformat": 4,
 "nbformat_minor": 2
}
