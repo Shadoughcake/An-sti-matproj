{
 "cells": [
  {
   "cell_type": "markdown",
   "metadata": {},
   "source": [
    "Opgave 11"
   ]
  },
  {
   "cell_type": "code",
   "execution_count": null,
   "metadata": {},
   "outputs": [],
   "source": [
    "from sympy import *\n",
    "init_printing()"
   ]
  },
  {
   "cell_type": "code",
   "execution_count": null,
   "metadata": {},
   "outputs": [],
   "source": [
    "# dcb_dt = -a1*cb-a2*cb+a2*cv\n",
    "# dcv_dt = w*a2*cb-w*a2*cv"
   ]
  },
  {
   "cell_type": "code",
   "execution_count": null,
   "metadata": {},
   "outputs": [],
   "source": [
    "a1,a2,w,cb,cv = symbols(\"a1,a2,w,cb,cv\", real = True)\n",
    "dcb_dt,dcb_dt_2, dcv_dt = symbols(\"dcb_dt,dcb_dt_2, dcv_dt\")\n",
    "\n",
    "eq_cb_diff = Eq(dcb_dt,-a1*cb-a2*cb+a2*cv)\n",
    "cv_a2 = solve(eq_cb_diff,cv*a2)[0]\n",
    "display(\"cv*a2:\",cv_a2)\n",
    "\n",
    "cv_diff_eq = Eq(dcv_dt,w*a2*cb-w*cv_a2)\n",
    "cv_diff = solve(cv_diff_eq,dcv_dt)[0]\n",
    "display(cv_diff_eq,cv_diff)\n",
    "\n",
    "test_eq = Eq(dcb_dt_2, -a1*dcb_dt-a2*dcb_dt+a2*cv_diff)\n",
    "test_solve = solve(test_eq,dcb_dt_2)\n",
    "display(test_eq,test_solve[0])"
   ]
  },
  {
   "cell_type": "code",
   "execution_count": null,
   "metadata": {},
   "outputs": [],
   "source": [
    "a1,a2,w,cb,cv = symbols(\"a1,a2,w,cb,cv\", real = True)\n",
    "dcb_dt,dcv_dt_2, dcv_dt = symbols(\"dcb_dt,dcv_dt_2, dcv_dt\")\n",
    "\n",
    "cv_diff_eq = Eq(dcv_dt,w*a2*cb-w*a2*cv)\n",
    "cb = solve(cv_diff_eq,cb)[0]\n",
    "display(cb)\n",
    "cb_diff_eq = Eq(dcb_dt,-a1*cb-cb*a2+a2*cv)\n",
    "cb_diff = solve(cb_diff_eq,dcb_dt)[0]\n",
    "display(cb_diff_eq,cb_diff)\n",
    "\n",
    "test_eq = Eq(dcv_dt_2,w*a2*cb_diff-w*a2*dcv_dt)\n",
    "test_solve = solve(test_eq,dcv_dt_2)\n",
    "display(test_eq, test_solve)"
   ]
  }
 ],
 "metadata": {
  "kernelspec": {
   "display_name": "Python 3",
   "language": "python",
   "name": "python3"
  },
  "language_info": {
   "name": "python",
   "version": "3.11.5"
  }
 },
 "nbformat": 4,
 "nbformat_minor": 2
}
