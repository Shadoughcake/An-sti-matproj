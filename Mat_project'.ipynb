{
 "cells": [
  {
   "cell_type": "code",
   "execution_count": 10,
   "metadata": {},
   "outputs": [],
   "source": [
    "from sympy import *\n",
    "import cmath\n",
    "from dtumathtools import*\n",
    "import matplotlib.pyplot as plt\n",
    "import numpy as np\n",
    "\n",
    "init_printing()"
   ]
  },
  {
   "cell_type": "code",
   "execution_count": 11,
   "metadata": {},
   "outputs": [],
   "source": [
    "a_1,a_2 ,w,c_v, c_b,v_v,v_b,F_1,F_2,t =symbols(\"a_1, a_2, w,c_v,c_b,v_v,v_b,F_1,F_2,t\") \n",
    "c_1, c_2,a_3 = symbols(\"c_1, c_2,a_3\")\n",
    "A=Matrix([[-(a_1+a_2),a_2],[w*a_2, -w*a_2]])\n",
    "Ab=Matrix([[-(a_3),a_2],[w*a_2, -w*a_2]])\n",
    "C = Matrix([c_b,c_v])\n",
    "lamb = simplify(A.eigenvals())\n",
    "\n",
    "Ac = A*C\n",
    "\n",
    "#lamb1 = lamb[0]\n",
    "#lamb2 = lamb[1]\n",
    "\n",
    "\n",
    "A.eigenvects()[0][0].subs({w:v_b/v_v, a_1:F_1,a_2:F_2})\n",
    "\n",
    "g1 = Eq(simplify(c_1*exp(A.eigenvects()[0][0]*t)*A.eigenvects()[0][2][0]+ c_2*exp(A.eigenvects()[1][0]*t)*A.eigenvects()[1][2][0]), Matrix([846,0])).subs({t:0})\n",
    "b1 = Eq(simplify(c_1*exp(Ab.eigenvects()[0][0]*t)*Ab.eigenvects()[0][2][0]+ c_2*exp(Ab.eigenvects()[1][0]*t)*Ab.eigenvects()[1][2][0]).subs({w:v_b/v_v, a_1:F_1/v_b,a_2:F_2/v_b}), Matrix([846,0])).subs({t:0})\n",
    "\n",
    "#.subs({w:v_b/v_v, a_1:F_1/v_b,a_2:F_2/v_b})\n",
    "#simplify(solve((g1), (c_2,c_1)))[c_1] \n"
   ]
  },
  {
   "cell_type": "code",
   "execution_count": 12,
   "metadata": {},
   "outputs": [
    {
     "data": {
      "image/png": "[encoded data removed]",
      "text/latex": [
       "$\\displaystyle a_{1} a_{2} w + a_{1} \\lambda + a_{2} \\lambda w + a_{2} \\lambda + \\lambda^{2}$"
      ],
      "text/plain": [
       "                                  2\n",
       "a₁⋅a₂⋅w + a₁⋅λ + a₂⋅λ⋅w + a₂⋅λ + λ "
      ]
     },
     "execution_count": 12,
     "metadata": {},
     "output_type": "execute_result"
    }
   ],
   "source": [
    "lamb = symbols(\"lambda\")\n",
    "\n",
    "(A-(lamb)*eye(2)).det()\n",
    "#solve(Eq((A-(lamb)*eye(2)).det(),0),lamb)\n",
    "\n"
   ]
  },
  {
   "cell_type": "code",
   "execution_count": 13,
   "metadata": {},
   "outputs": [],
   "source": [
    "c_1, c_2 = symbols(\"c_1, c_2\")\n",
    "g1 = Eq(simplify(c_1*exp(A.eigenvects()[0][0]*t)*A.eigenvects()[0][2][0]+ c_2*exp(A.eigenvects()[1][0]*t)*A.eigenvects()[1][2][0]), Matrix([846,0])).subs({t:0})\n",
    "sol1 = solve(g1)[0][c_1]\n",
    "sol2 = solve(g1)[0][c_2]\n"
   ]
  },
  {
   "cell_type": "code",
   "execution_count": 14,
   "metadata": {},
   "outputs": [],
   "source": [
    "sol1 = solve(g1)[0][c_1]\n",
    "sol2 = solve(g1)[0][c_2]\n",
    "\n",
    "\n"
   ]
  },
  {
   "cell_type": "code",
   "execution_count": 15,
   "metadata": {},
   "outputs": [
    {
     "name": "stdout",
     "output_type": "stream",
     "text": [
      "0\n"
     ]
    },
    {
     "data": {
      "text/latex": [
       "$\\displaystyle \\left[\\begin{matrix}846.0\\\\0\\end{matrix}\\right]$"
      ],
      "text/plain": [
       "⎡846.0⎤\n",
       "⎢     ⎥\n",
       "⎣  0  ⎦"
      ]
     },
     "metadata": {},
     "output_type": "display_data"
    },
    {
     "name": "stdout",
     "output_type": "stream",
     "text": [
      "0.1\n"
     ]
    },
    {
     "data": {
      "text/latex": [
       "$\\displaystyle \\left[\\begin{matrix}637.880744931668\\\\116.750872019137\\end{matrix}\\right]$"
      ],
      "text/plain": [
       "⎡637.880744931668⎤\n",
       "⎢                ⎥\n",
       "⎣116.750872019137⎦"
      ]
     },
     "metadata": {},
     "output_type": "display_data"
    },
    {
     "name": "stdout",
     "output_type": "stream",
     "text": [
      "0.2\n"
     ]
    },
    {
     "data": {
      "text/latex": [
       "$\\displaystyle \\left[\\begin{matrix}500.545352067394\\\\187.88435925036\\end{matrix}\\right]$"
      ],
      "text/plain": [
       "⎡500.545352067394⎤\n",
       "⎢                ⎥\n",
       "⎣187.88435925036 ⎦"
      ]
     },
     "metadata": {},
     "output_type": "display_data"
    },
    {
     "name": "stdout",
     "output_type": "stream",
     "text": [
      "0.3\n"
     ]
    },
    {
     "data": {
      "text/latex": [
       "$\\displaystyle \\left[\\begin{matrix}408.928103396774\\\\229.770636524396\\end{matrix}\\right]$"
      ],
      "text/plain": [
       "⎡408.928103396774⎤\n",
       "⎢                ⎥\n",
       "⎣229.770636524396⎦"
      ]
     },
     "metadata": {},
     "output_type": "display_data"
    },
    {
     "name": "stdout",
     "output_type": "stream",
     "text": [
      "0.4\n"
     ]
    },
    {
     "data": {
      "text/latex": [
       "$\\displaystyle \\left[\\begin{matrix}346.87574820333\\\\252.951627903215\\end{matrix}\\right]$"
      ],
      "text/plain": [
       "⎡346.87574820333 ⎤\n",
       "⎢                ⎥\n",
       "⎣252.951627903215⎦"
      ]
     },
     "metadata": {},
     "output_type": "display_data"
    },
    {
     "name": "stdout",
     "output_type": "stream",
     "text": [
      "0.5\n"
     ]
    },
    {
     "data": {
      "text/latex": [
       "$\\displaystyle \\left[\\begin{matrix}303.977274517274\\\\264.21442361441\\end{matrix}\\right]$"
      ],
      "text/plain": [
       "⎡303.977274517274⎤\n",
       "⎢                ⎥\n",
       "⎣264.21442361441 ⎦"
      ]
     },
     "metadata": {},
     "output_type": "display_data"
    },
    {
     "name": "stdout",
     "output_type": "stream",
     "text": [
      "1\n"
     ]
    },
    {
     "data": {
      "text/latex": [
       "$\\displaystyle \\left[\\begin{matrix}209.529712169292\\\\250.431233296238\\end{matrix}\\right]$"
      ],
      "text/plain": [
       "⎡209.529712169292⎤\n",
       "⎢                ⎥\n",
       "⎣250.431233296238⎦"
      ]
     },
     "metadata": {},
     "output_type": "display_data"
    },
    {
     "name": "stdout",
     "output_type": "stream",
     "text": [
      "1.5\n"
     ]
    },
    {
     "data": {
      "text/latex": [
       "$\\displaystyle \\left[\\begin{matrix}170.360947470805\\\\212.822584489603\\end{matrix}\\right]$"
      ],
      "text/plain": [
       "⎡170.360947470805⎤\n",
       "⎢                ⎥\n",
       "⎣212.822584489603⎦"
      ]
     },
     "metadata": {},
     "output_type": "display_data"
    },
    {
     "name": "stdout",
     "output_type": "stream",
     "text": [
      "2\n"
     ]
    },
    {
     "data": {
      "text/latex": [
       "$\\displaystyle \\left[\\begin{matrix}142.009294784404\\\\178.45625840173\\end{matrix}\\right]$"
      ],
      "text/plain": [
       "⎡142.009294784404⎤\n",
       "⎢                ⎥\n",
       "⎣178.45625840173 ⎦"
      ]
     },
     "metadata": {},
     "output_type": "display_data"
    },
    {
     "name": "stdout",
     "output_type": "stream",
     "text": [
      "2.5\n"
     ]
    },
    {
     "data": {
      "text/latex": [
       "$\\displaystyle \\left[\\begin{matrix}118.775278143014\\\\149.376405288501\\end{matrix}\\right]$"
      ],
      "text/plain": [
       "⎡118.775278143014⎤\n",
       "⎢                ⎥\n",
       "⎣149.376405288501⎦"
      ]
     },
     "metadata": {},
     "output_type": "display_data"
    },
    {
     "name": "stdout",
     "output_type": "stream",
     "text": [
      "3\n"
     ]
    },
    {
     "data": {
      "text/latex": [
       "$\\displaystyle \\left[\\begin{matrix}99.3870602406846\\\\125.006048344245\\end{matrix}\\right]$"
      ],
      "text/plain": [
       "⎡99.3870602406846⎤\n",
       "⎢                ⎥\n",
       "⎣125.006048344245⎦"
      ]
     },
     "metadata": {},
     "output_type": "display_data"
    },
    {
     "name": "stdout",
     "output_type": "stream",
     "text": [
      "3.5\n"
     ]
    },
    {
     "data": {
      "text/latex": [
       "$\\displaystyle \\left[\\begin{matrix}83.1686102295336\\\\104.608416202888\\end{matrix}\\right]$"
      ],
      "text/plain": [
       "⎡83.1686102295336⎤\n",
       "⎢                ⎥\n",
       "⎣104.608416202888⎦"
      ]
     },
     "metadata": {},
     "output_type": "display_data"
    },
    {
     "name": "stdout",
     "output_type": "stream",
     "text": [
      "4\n"
     ]
    },
    {
     "data": {
      "text/latex": [
       "$\\displaystyle \\left[\\begin{matrix}69.5973122377353\\\\87.5387712955469\\end{matrix}\\right]$"
      ],
      "text/plain": [
       "⎡69.5973122377353⎤\n",
       "⎢                ⎥\n",
       "⎣87.5387712955469⎦"
      ]
     },
     "metadata": {},
     "output_type": "display_data"
    },
    {
     "name": "stdout",
     "output_type": "stream",
     "text": [
      "4.5\n"
     ]
    },
    {
     "data": {
      "text/latex": [
       "$\\displaystyle \\left[\\begin{matrix}58.2406141400043\\\\73.2544530393301\\end{matrix}\\right]$"
      ],
      "text/plain": [
       "⎡58.2406141400043⎤\n",
       "⎢                ⎥\n",
       "⎣73.2544530393301⎦"
      ]
     },
     "metadata": {},
     "output_type": "display_data"
    }
   ],
   "source": [
    "k =simplify(c_1*exp(A.eigenvects()[0][0]*t)*A.eigenvects()[0][2][0]+ c_2*exp(A.eigenvects()[1][0]*t)*A.eigenvects()[1][2][0]).subs({c_1:sol1, c_2: sol2, w:.822640823127041, a_1:.901034392375545, a_2:2.11315000478758})\n",
    "f = (k.subs({a_1:.901034392375545, a_2:2.11315000478758 })).evalf()\n",
    "\n",
    "\n",
    "time = [0, .1, .2, .3 ,.4 ,.5 ,1 ,1.5 ,2, 2.5 ,3 ,3.5, 4, 4.5]\n",
    "time2 = [1.55,1.6,1.65,1.7,1.75,1.8,1.85,1.9,1.95,2]\n",
    "\n",
    "for i in time:\n",
    "    print(i)\n",
    "    display(f.subs({t:i}).evalf())\n"
   ]
  },
  {
   "cell_type": "code",
   "execution_count": 16,
   "metadata": {},
   "outputs": [
    {
     "data": {
      "image/png": "[encoded data removed]",
      "text/latex": [
       "$\\displaystyle 37.1002356201462$"
      ],
      "text/plain": [
       "37.1002356201462"
      ]
     },
     "execution_count": 16,
     "metadata": {},
     "output_type": "execute_result"
    }
   ],
   "source": [
    "blod = Matrix((c_1*exp(A.eigenvects()[0][0]*t)*A.eigenvects()[0][2][0]+ c_2*exp(A.eigenvects()[1][0]*t)*A.eigenvects()[1][2][0]).subs({c_1:sol1, c_2: sol2})).row(0)[0]\n",
    "sumblod = []\n",
    "tabel = [846, 591, 468, 385, 374, 325, 229, 183, 166, 132, 106, 83, 70, 58]\n",
    "j= 0\n",
    "kk =simplify(c_1*exp(A.eigenvects()[0][0]*t)*A.eigenvects()[0][2][0]+ c_2*exp(A.eigenvects()[1][0]*t)*A.eigenvects()[1][2][0]).subs({c_1:sol1, c_2: sol2, w:1.16526168, a_1:.85969138 , a_2:3.05690702 })\n",
    "h = (kk.subs({a_1:.85969138 , a_2:2.15315778})).evalf()\n",
    "kkk =simplify(c_1*exp(A.eigenvects()[0][0]*t)*A.eigenvects()[0][2][0]+ c_2*exp(A.eigenvects()[1][0]*t)*A.eigenvects()[1][2][0]).subs({c_1:sol1, c_2: sol2, w: 1.07665091 , a_1:.89699773  , a_2:3.05690702  })\n",
    "h1 = (kkk.subs({a_1:.89699773, a_2: 3.05690702})).evalf()\n",
    "\n",
    "\n",
    "for i in time:\n",
    "    sumblod.append(abs(tabel[j] -Matrix(h1).row(0)[0].subs({t:i}))**2)\n",
    "    j += 1\n",
    "N(((((np.asarray(sumblod))))).sum())**(1/2)\n"
   ]
  },
  {
   "cell_type": "code",
   "execution_count": 17,
   "metadata": {},
   "outputs": [
    {
     "data": {
      "image/png": "[encoded data removed]",
      "text/latex": [
       "$\\displaystyle 37.1002356201462$"
      ],
      "text/plain": [
       "37.1002356201462"
      ]
     },
     "execution_count": 17,
     "metadata": {},
     "output_type": "execute_result"
    }
   ],
   "source": [
    "temp =simplify(c_1*exp(A.eigenvects()[0][0]*t)*A.eigenvects()[0][2][0]+ c_2*exp(A.eigenvects()[1][0]*t)*A.eigenvects()[1][2][0]).subs({c_1:sol1, c_2: sol2, w: 1.07665091 , \n",
    "                                                                                                                                      a_1:.89699773  , a_2:3.05690702  })\n",
    "h1 = (temp.subs({a_1:.89699773, a_2: 3.05690702})).evalf()\n",
    "tabel = [846, 591, 468, 385, 374, 325, 229, 183, 166, 132, 106, 83, 70, 58]\n",
    "sumblod =[]\n",
    "j =0\n",
    "for i in time:\n",
    "    sumblod.append(abs(tabel[j] -Matrix(h1).row(0)[0].subs({t:i}))**2)\n",
    "    j += 1\n",
    "N(((((np.asarray(sumblod))))).sum())**(1/2)\n"
   ]
  },
  {
   "cell_type": "code",
   "execution_count": 18,
   "metadata": {},
   "outputs": [
    {
     "name": "stdout",
     "output_type": "stream",
     "text": [
      "1.13686837721616e-13\n",
      "8.26127982643029\n",
      "0.854179424158371\n",
      "8.34033668458541\n",
      "24.6640717365552\n",
      "4.30608124917209\n",
      "17.2531809150269\n",
      "14.8789736551213\n",
      "6.68686047447631\n",
      "3.72620227125645\n",
      "2.71774120283846\n",
      "0.159823800888246\n",
      "3.04216606537279\n",
      "4.08752975504244\n"
     ]
    }
   ],
   "source": [
    "esth = []\n",
    "estf = []\n",
    "for i in range(len(sumblod)): \n",
    "    print(sqrt(sumblod[i].evalf()))\n",
    "    \n",
    "for i in time:\n",
    "    esth.append(Matrix(h).row(0)[0].subs({t:i}).evalf())\n",
    "    estf.append(Matrix(f).row(0)[0].subs({t:i}).evalf())"
   ]
  },
  {
   "cell_type": "code",
   "execution_count": 19,
   "metadata": {},
   "outputs": [
    {
     "data": {
      "text/latex": [
       "$\\displaystyle \\left[\\begin{matrix}173.66709874863\\\\200.000000198632\\end{matrix}\\right]$"
      ],
      "text/plain": [
       "⎡173.66709874863 ⎤\n",
       "⎢                ⎥\n",
       "⎣200.000000198632⎦"
      ]
     },
     "execution_count": 19,
     "metadata": {},
     "output_type": "execute_result"
    }
   ],
   "source": [
    "h1.subs({t:1.8009715}).evalf()\n"
   ]
  }
 ],
 "metadata": {
  "kernelspec": {
   "display_name": "Python 3",
   "language": "python",
   "name": "python3"
  },
  "language_info": {
   "codemirror_mode": {
    "name": "ipython",
    "version": 3
   },
   "file_extension": ".py",
   "mimetype": "text/x-python",
   "name": "python",
   "nbconvert_exporter": "python",
   "pygments_lexer": "ipython3",
   "version": "3.11.5"
  }
 },
 "nbformat": 4,
 "nbformat_minor": 2
}
